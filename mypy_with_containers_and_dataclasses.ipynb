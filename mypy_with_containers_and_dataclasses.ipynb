{
 "cells": [
  {
   "cell_type": "markdown",
   "source": [
    "# Type annotations for containers"
   ],
   "metadata": {
    "collapsed": false,
    "pycharm": {
     "name": "#%% md\n"
    }
   }
  },
  {
   "cell_type": "code",
   "execution_count": 1,
   "outputs": [],
   "source": [
    "from typing import List, Tuple, Set, Dict, Union, Optional, Any\n",
    "from typing import DefaultDict, FrozenSet\n",
    "from typing import Container, Sized, Sequence, Iterable, Iterator,Collection, AbstractSet\n",
    "#from collections.abc import Set as AbstractSet\n",
    "\n",
    "from collections import defaultdict, Counter"
   ],
   "metadata": {
    "collapsed": false,
    "pycharm": {
     "name": "#%%\n"
    }
   }
  },
  {
   "cell_type": "markdown",
   "source": [
    "## Be specific!"
   ],
   "metadata": {
    "collapsed": false
   }
  },
  {
   "cell_type": "code",
   "execution_count": 2,
   "outputs": [],
   "source": [
    "my_list: List[int] = [1,2]\n",
    "my_tuple: Tuple[int, int] = (1,2)\n",
    "my_set: Set[int] = {1,2}\n",
    "my_dict: Dict[str, int] = {\"1\":1, \"2\":2}\n",
    "my_default_dict: DefaultDict[str, int] = defaultdict(lambda: 0)\n",
    "my_counter: Counter[str] = Counter(\"some letters\")\n",
    "my_frozen_set: FrozenSet[int] = frozenset({1,2})"
   ],
   "metadata": {
    "collapsed": false,
    "pycharm": {
     "name": "#%%\n"
    }
   }
  },
  {
   "cell_type": "markdown",
   "source": [
    "## Multi-type containers"
   ],
   "metadata": {
    "collapsed": false
   }
  },
  {
   "cell_type": "code",
   "execution_count": 3,
   "outputs": [],
   "source": [
    "my_list2: List[Union[str, int]] = [\"one\",2]"
   ],
   "metadata": {
    "collapsed": false,
    "pycharm": {
     "name": "#%%\n"
    }
   }
  },
  {
   "cell_type": "markdown",
   "source": [
    "## Can be none (optional)."
   ],
   "metadata": {
    "collapsed": false
   }
  },
  {
   "cell_type": "code",
   "execution_count": 4,
   "outputs": [],
   "source": [
    "my_list3: Optional[List[Union[str, int]]] = None\n",
    "my_list = [\"one\", 2]"
   ],
   "metadata": {
    "collapsed": false,
    "pycharm": {
     "name": "#%%\n"
    }
   }
  },
  {
   "cell_type": "markdown",
   "source": [
    "## Any type"
   ],
   "metadata": {
    "collapsed": false
   }
  },
  {
   "cell_type": "code",
   "execution_count": 5,
   "outputs": [],
   "source": [
    "my_diverse_list: List[Any] = [1, \"2\", (1,2), 5.56]"
   ],
   "metadata": {
    "collapsed": false,
    "pycharm": {
     "name": "#%%\n"
    }
   }
  },
  {
   "cell_type": "markdown",
   "source": [
    "**Same as omiting type:**"
   ],
   "metadata": {
    "collapsed": false
   }
  },
  {
   "cell_type": "code",
   "execution_count": 6,
   "outputs": [],
   "source": [
    "my_diverse_list2: List = [1, \"2\", (1,2), 5.56]"
   ],
   "metadata": {
    "collapsed": false,
    "pycharm": {
     "name": "#%%\n"
    }
   }
  },
  {
   "cell_type": "markdown",
   "source": [
    "## More general types"
   ],
   "metadata": {
    "collapsed": false
   }
  },
  {
   "cell_type": "code",
   "execution_count": 7,
   "outputs": [],
   "source": [
    "my_abstract_set: AbstractSet[int] = {1,2}\n",
    "my_abstract_set = frozenset({1,2})"
   ],
   "metadata": {
    "collapsed": false,
    "pycharm": {
     "name": "#%%\n"
    }
   }
  },
  {
   "cell_type": "markdown",
   "source": [
    "### Container\n",
    "- implaments \\_\\_contains__ (We can use something **in** conatiner )\n",
    "- too general"
   ],
   "metadata": {
    "collapsed": false,
    "pycharm": {
     "name": "#%% md\n"
    }
   }
  },
  {
   "cell_type": "code",
   "execution_count": 8,
   "outputs": [],
   "source": [
    "my_container: Container[Any]\n",
    "my_container = [1,2]\n",
    "my_container = (1,2)\n",
    "my_container = {\"1\":\"1\"}\n",
    "my_container = {\"1\"}\n",
    "my_container = \"even string\"\n",
    "\n",
    "\n",
    "class SomeContainerClass():\n",
    "    def __contains__(self, item :Any) -> bool:\n",
    "        return True\n",
    "\n",
    "my_container = SomeContainerClass()"
   ],
   "metadata": {
    "collapsed": false,
    "pycharm": {
     "name": "#%%\n"
    }
   }
  },
  {
   "cell_type": "markdown",
   "source": [
    "### Sized\n",
    "- implaments \\_\\_len__  (We can call len(...))\n",
    "- too general"
   ],
   "metadata": {
    "collapsed": false
   }
  },
  {
   "cell_type": "code",
   "execution_count": 9,
   "outputs": [],
   "source": [
    "my_sized: Sized\n",
    "my_sized = [1,2]\n",
    "my_sized = (1,2)\n",
    "my_sized = {\"1\":\"1\"}\n",
    "my_sized = {\"1\"}\n",
    "my_sized = \"even string\"\n",
    "\n",
    "class SomeSizedClass():\n",
    "    def __len__(self) -> int:\n",
    "        return 1\n",
    "\n",
    "my_sized = SomeSizedClass()"
   ],
   "metadata": {
    "collapsed": false,
    "pycharm": {
     "name": "#%%\n"
    }
   }
  },
  {
   "cell_type": "markdown",
   "source": [
    "### Iterable\n",
    "- implaments \\_\\_iter__  (We can call iter(...) or use it in **for** loop for example)\n",
    "- too general"
   ],
   "metadata": {
    "collapsed": false
   }
  },
  {
   "cell_type": "code",
   "execution_count": 10,
   "outputs": [],
   "source": [
    "my_iterable: Iterable[Any]\n",
    "my_iterable = [1,2]\n",
    "my_iterable = (1,2)\n",
    "my_iterable = {\"1\":\"1\"}\n",
    "my_iterable = {\"1\"}\n",
    "my_iterable = \"even string\"\n",
    "\n",
    "class SomeIterableClass():\n",
    "    def __iter__(self) -> Iterator[Any]:\n",
    "        return iter([1])\n",
    "\n",
    "my_iterable = SomeIterableClass()"
   ],
   "metadata": {
    "collapsed": false,
    "pycharm": {
     "name": "#%%\n"
    }
   }
  },
  {
   "cell_type": "markdown",
   "source": [
    "### Collection\n",
    "- Is sized iterable container classes. (combination of previously mentioned.)\n",
    "- Still quite general, but little better than previous."
   ],
   "metadata": {
    "collapsed": false
   }
  },
  {
   "cell_type": "code",
   "execution_count": 11,
   "outputs": [],
   "source": [
    "my_collection: Collection[Any]\n",
    "my_collection = [1,2]\n",
    "my_collection = (1,2)\n",
    "my_collection = {\"1\":\"1\"}\n",
    "my_collection = {\"1\"}\n",
    "my_collection = \"even string\"\n",
    "\n",
    "class SomemyCollectionClass():\n",
    "    def __iter__(self) -> Iterator[Any]:\n",
    "        return iter([1])\n",
    "    def __len__(self) -> int:\n",
    "        return 1\n",
    "    def __contains__(self, item :Any) -> bool:\n",
    "        return True\n",
    "\n",
    "my_collection = SomemyCollectionClass()"
   ],
   "metadata": {
    "collapsed": false,
    "pycharm": {
     "name": "#%%\n"
    }
   }
  },
  {
   "cell_type": "markdown",
   "source": [
    "## Use More general types only if you need to."
   ],
   "metadata": {
    "collapsed": false
   }
  },
  {
   "cell_type": "code",
   "execution_count": 12,
   "outputs": [],
   "source": [
    "my_list4: Collection[int] = [1,2]\n",
    "my_list5: Container[int] = [1,2]\n",
    "my_list6: Iterable[int] = [1,2]\n",
    "my_list7: Sized = [1,2]"
   ],
   "metadata": {
    "collapsed": false,
    "pycharm": {
     "name": "#%%\n"
    }
   }
  },
  {
   "cell_type": "markdown",
   "source": [
    "**All those will pass mypy, but you should use specific type unless, you have pretty good reason for using more general type.**"
   ],
   "metadata": {
    "collapsed": false
   }
  }
 ],
 "metadata": {
  "kernelspec": {
   "display_name": "Python 3",
   "language": "python",
   "name": "python3"
  },
  "language_info": {
   "codemirror_mode": {
    "name": "ipython",
    "version": 2
   },
   "file_extension": ".py",
   "mimetype": "text/x-python",
   "name": "python",
   "nbconvert_exporter": "python",
   "pygments_lexer": "ipython2",
   "version": "2.7.6"
  }
 },
 "nbformat": 4,
 "nbformat_minor": 0
}